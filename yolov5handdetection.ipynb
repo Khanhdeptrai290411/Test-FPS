{
 "cells": [
  {
   "cell_type": "code",
   "execution_count": 10,
   "metadata": {},
   "outputs": [
    {
     "name": "stdout",
     "output_type": "stream",
     "text": [
      "Requirement already satisfied: torch in c:\\users\\dell.000\\miniforge3\\envs\\myenv\\lib\\site-packages (2.5.1)\n",
      "Requirement already satisfied: filelock in c:\\users\\dell.000\\miniforge3\\envs\\myenv\\lib\\site-packages (from torch) (3.16.1)\n",
      "Requirement already satisfied: typing-extensions>=4.8.0 in c:\\users\\dell.000\\miniforge3\\envs\\myenv\\lib\\site-packages (from torch) (4.12.2)\n",
      "Requirement already satisfied: networkx in c:\\users\\dell.000\\miniforge3\\envs\\myenv\\lib\\site-packages (from torch) (3.4.2)\n",
      "Requirement already satisfied: jinja2 in c:\\users\\dell.000\\miniforge3\\envs\\myenv\\lib\\site-packages (from torch) (3.1.4)\n",
      "Requirement already satisfied: fsspec in c:\\users\\dell.000\\miniforge3\\envs\\myenv\\lib\\site-packages (from torch) (2024.10.0)\n",
      "Requirement already satisfied: sympy==1.13.1 in c:\\users\\dell.000\\miniforge3\\envs\\myenv\\lib\\site-packages (from torch) (1.13.1)\n",
      "Requirement already satisfied: mpmath<1.4,>=1.1.0 in c:\\users\\dell.000\\miniforge3\\envs\\myenv\\lib\\site-packages (from sympy==1.13.1->torch) (1.3.0)\n",
      "Requirement already satisfied: MarkupSafe>=2.0 in c:\\users\\dell.000\\miniforge3\\envs\\myenv\\lib\\site-packages (from jinja2->torch) (3.0.2)\n"
     ]
    }
   ],
   "source": [
    "#!python -m pip install --upgrade pip\n",
    "\n",
    "#!pip install tensorflow==2.3.1 \n",
    "\n",
    "#!pip install tensorboard==2.4.1\n",
    "!pip install torch  "
   ]
  },
  {
   "cell_type": "code",
   "execution_count": 7,
   "metadata": {},
   "outputs": [],
   "source": [
    "import torch # YOLOv5 implemented using pytorch\n",
    "import pathlib\n",
    "temp = pathlib.PosixPath\n",
    "pathlib.PosixPath = pathlib.WindowsPath"
   ]
  },
  {
   "cell_type": "code",
   "execution_count": 2,
   "metadata": {},
   "outputs": [],
   "source": [
    "from IPython.display import Image #this is to render predictions"
   ]
  },
  {
   "cell_type": "code",
   "execution_count": 5,
   "metadata": {},
   "outputs": [],
   "source": [
    "!git clone https://github.com/ultralytics/yolov5"
   ]
  },
  {
   "cell_type": "code",
   "execution_count": 1,
   "metadata": {},
   "outputs": [
    {
     "name": "stdout",
     "output_type": "stream",
     "text": [
      "d:\\WorkSpace\\python\\YOLO_HAND_DETECT\\yolov5\n"
     ]
    }
   ],
   "source": [
    "%cd yolov5"
   ]
  },
  {
   "cell_type": "code",
   "execution_count": 6,
   "metadata": {},
   "outputs": [
    {
     "name": "stdout",
     "output_type": "stream",
     "text": [
      "Requirement already satisfied: gitpython>=3.1.30 in c:\\users\\dell.000\\miniforge3\\envs\\myenv\\lib\\site-packages (from -r requirements.txt (line 5)) (3.1.43)\n",
      "Requirement already satisfied: matplotlib>=3.3 in c:\\users\\dell.000\\miniforge3\\envs\\myenv\\lib\\site-packages (from -r requirements.txt (line 6)) (3.9.2)\n",
      "Requirement already satisfied: numpy>=1.23.5 in c:\\users\\dell.000\\miniforge3\\envs\\myenv\\lib\\site-packages (from -r requirements.txt (line 7)) (2.0.2)\n",
      "Requirement already satisfied: opencv-python>=4.1.1 in c:\\users\\dell.000\\miniforge3\\envs\\myenv\\lib\\site-packages (from -r requirements.txt (line 8)) (4.10.0)\n",
      "Requirement already satisfied: pillow>=10.3.0 in c:\\users\\dell.000\\miniforge3\\envs\\myenv\\lib\\site-packages (from -r requirements.txt (line 9)) (10.4.0)\n",
      "Requirement already satisfied: psutil in c:\\users\\dell.000\\miniforge3\\envs\\myenv\\lib\\site-packages (from -r requirements.txt (line 10)) (6.1.0)\n",
      "Requirement already satisfied: PyYAML>=5.3.1 in c:\\users\\dell.000\\miniforge3\\envs\\myenv\\lib\\site-packages (from -r requirements.txt (line 11)) (6.0.2)\n",
      "Requirement already satisfied: requests>=2.32.2 in c:\\users\\dell.000\\miniforge3\\envs\\myenv\\lib\\site-packages (from -r requirements.txt (line 12)) (2.32.3)\n",
      "Requirement already satisfied: scipy>=1.4.1 in c:\\users\\dell.000\\miniforge3\\envs\\myenv\\lib\\site-packages (from -r requirements.txt (line 13)) (1.14.1)\n",
      "Requirement already satisfied: thop>=0.1.1 in c:\\users\\dell.000\\miniforge3\\envs\\myenv\\lib\\site-packages (from -r requirements.txt (line 14)) (0.1.1.post2209072238)\n",
      "Requirement already satisfied: torch>=1.8.0 in c:\\users\\dell.000\\miniforge3\\envs\\myenv\\lib\\site-packages (from -r requirements.txt (line 15)) (2.5.1)\n",
      "Requirement already satisfied: torchvision>=0.9.0 in c:\\users\\dell.000\\miniforge3\\envs\\myenv\\lib\\site-packages (from -r requirements.txt (line 16)) (0.20.1)\n",
      "Requirement already satisfied: tqdm>=4.66.3 in c:\\users\\dell.000\\miniforge3\\envs\\myenv\\lib\\site-packages (from -r requirements.txt (line 17)) (4.67.0)\n",
      "Requirement already satisfied: ultralytics>=8.2.34 in c:\\users\\dell.000\\miniforge3\\envs\\myenv\\lib\\site-packages (from -r requirements.txt (line 18)) (8.3.32)\n",
      "Requirement already satisfied: pandas>=1.1.4 in c:\\users\\dell.000\\miniforge3\\envs\\myenv\\lib\\site-packages (from -r requirements.txt (line 27)) (2.2.3)\n",
      "Requirement already satisfied: seaborn>=0.11.0 in c:\\users\\dell.000\\miniforge3\\envs\\myenv\\lib\\site-packages (from -r requirements.txt (line 28)) (0.13.2)\n",
      "Requirement already satisfied: setuptools>=70.0.0 in c:\\users\\dell.000\\miniforge3\\envs\\myenv\\lib\\site-packages (from -r requirements.txt (line 42)) (75.1.0)\n",
      "Requirement already satisfied: gitdb<5,>=4.0.1 in c:\\users\\dell.000\\miniforge3\\envs\\myenv\\lib\\site-packages (from gitpython>=3.1.30->-r requirements.txt (line 5)) (4.0.11)\n",
      "Requirement already satisfied: contourpy>=1.0.1 in c:\\users\\dell.000\\miniforge3\\envs\\myenv\\lib\\site-packages (from matplotlib>=3.3->-r requirements.txt (line 6)) (1.3.0)\n",
      "Requirement already satisfied: cycler>=0.10 in c:\\users\\dell.000\\miniforge3\\envs\\myenv\\lib\\site-packages (from matplotlib>=3.3->-r requirements.txt (line 6)) (0.12.1)\n",
      "Requirement already satisfied: fonttools>=4.22.0 in c:\\users\\dell.000\\miniforge3\\envs\\myenv\\lib\\site-packages (from matplotlib>=3.3->-r requirements.txt (line 6)) (4.54.1)\n",
      "Requirement already satisfied: kiwisolver>=1.3.1 in c:\\users\\dell.000\\miniforge3\\envs\\myenv\\lib\\site-packages (from matplotlib>=3.3->-r requirements.txt (line 6)) (1.4.7)\n",
      "Requirement already satisfied: packaging>=20.0 in c:\\users\\dell.000\\miniforge3\\envs\\myenv\\lib\\site-packages (from matplotlib>=3.3->-r requirements.txt (line 6)) (24.1)\n",
      "Requirement already satisfied: pyparsing>=2.3.1 in c:\\users\\dell.000\\miniforge3\\envs\\myenv\\lib\\site-packages (from matplotlib>=3.3->-r requirements.txt (line 6)) (3.2.0)\n",
      "Requirement already satisfied: python-dateutil>=2.7 in c:\\users\\dell.000\\miniforge3\\envs\\myenv\\lib\\site-packages (from matplotlib>=3.3->-r requirements.txt (line 6)) (2.9.0)\n",
      "Requirement already satisfied: charset-normalizer<4,>=2 in c:\\users\\dell.000\\miniforge3\\envs\\myenv\\lib\\site-packages (from requests>=2.32.2->-r requirements.txt (line 12)) (3.4.0)\n",
      "Requirement already satisfied: idna<4,>=2.5 in c:\\users\\dell.000\\miniforge3\\envs\\myenv\\lib\\site-packages (from requests>=2.32.2->-r requirements.txt (line 12)) (3.10)\n",
      "Requirement already satisfied: urllib3<3,>=1.21.1 in c:\\users\\dell.000\\miniforge3\\envs\\myenv\\lib\\site-packages (from requests>=2.32.2->-r requirements.txt (line 12)) (2.2.3)\n",
      "Requirement already satisfied: certifi>=2017.4.17 in c:\\users\\dell.000\\miniforge3\\envs\\myenv\\lib\\site-packages (from requests>=2.32.2->-r requirements.txt (line 12)) (2024.8.30)\n",
      "Requirement already satisfied: filelock in c:\\users\\dell.000\\miniforge3\\envs\\myenv\\lib\\site-packages (from torch>=1.8.0->-r requirements.txt (line 15)) (3.16.1)\n",
      "Requirement already satisfied: typing-extensions>=4.8.0 in c:\\users\\dell.000\\miniforge3\\envs\\myenv\\lib\\site-packages (from torch>=1.8.0->-r requirements.txt (line 15)) (4.12.2)\n",
      "Requirement already satisfied: networkx in c:\\users\\dell.000\\miniforge3\\envs\\myenv\\lib\\site-packages (from torch>=1.8.0->-r requirements.txt (line 15)) (3.4.2)\n",
      "Requirement already satisfied: jinja2 in c:\\users\\dell.000\\miniforge3\\envs\\myenv\\lib\\site-packages (from torch>=1.8.0->-r requirements.txt (line 15)) (3.1.4)\n",
      "Requirement already satisfied: fsspec in c:\\users\\dell.000\\miniforge3\\envs\\myenv\\lib\\site-packages (from torch>=1.8.0->-r requirements.txt (line 15)) (2024.10.0)\n",
      "Requirement already satisfied: sympy==1.13.1 in c:\\users\\dell.000\\miniforge3\\envs\\myenv\\lib\\site-packages (from torch>=1.8.0->-r requirements.txt (line 15)) (1.13.1)\n",
      "Requirement already satisfied: mpmath<1.4,>=1.1.0 in c:\\users\\dell.000\\miniforge3\\envs\\myenv\\lib\\site-packages (from sympy==1.13.1->torch>=1.8.0->-r requirements.txt (line 15)) (1.3.0)\n",
      "Requirement already satisfied: colorama in c:\\users\\dell.000\\miniforge3\\envs\\myenv\\lib\\site-packages (from tqdm>=4.66.3->-r requirements.txt (line 17)) (0.4.6)\n",
      "Requirement already satisfied: py-cpuinfo in c:\\users\\dell.000\\miniforge3\\envs\\myenv\\lib\\site-packages (from ultralytics>=8.2.34->-r requirements.txt (line 18)) (9.0.0)\n",
      "Requirement already satisfied: ultralytics-thop>=2.0.0 in c:\\users\\dell.000\\miniforge3\\envs\\myenv\\lib\\site-packages (from ultralytics>=8.2.34->-r requirements.txt (line 18)) (2.0.11)\n",
      "Requirement already satisfied: pytz>=2020.1 in c:\\users\\dell.000\\miniforge3\\envs\\myenv\\lib\\site-packages (from pandas>=1.1.4->-r requirements.txt (line 27)) (2024.1)\n",
      "Requirement already satisfied: tzdata>=2022.7 in c:\\users\\dell.000\\miniforge3\\envs\\myenv\\lib\\site-packages (from pandas>=1.1.4->-r requirements.txt (line 27)) (2024.2)\n",
      "Requirement already satisfied: smmap<6,>=3.0.1 in c:\\users\\dell.000\\miniforge3\\envs\\myenv\\lib\\site-packages (from gitdb<5,>=4.0.1->gitpython>=3.1.30->-r requirements.txt (line 5)) (5.0.1)\n",
      "Requirement already satisfied: six>=1.5 in c:\\users\\dell.000\\miniforge3\\envs\\myenv\\lib\\site-packages (from python-dateutil>=2.7->matplotlib>=3.3->-r requirements.txt (line 6)) (1.16.0)\n",
      "Requirement already satisfied: MarkupSafe>=2.0 in c:\\users\\dell.000\\miniforge3\\envs\\myenv\\lib\\site-packages (from jinja2->torch>=1.8.0->-r requirements.txt (line 15)) (3.0.2)\n"
     ]
    }
   ],
   "source": [
    "!pip install -r requirements.txt"
   ]
  },
  {
   "cell_type": "markdown",
   "metadata": {},
   "source": [
    "# DATASET "
   ]
  },
  {
   "cell_type": "code",
   "execution_count": null,
   "metadata": {},
   "outputs": [
    {
     "name": "stdout",
     "output_type": "stream",
     "text": [
      "Training images: 1240\n",
      "Testing images: 311\n",
      "Dataset split completed!\n"
     ]
    }
   ],
   "source": [
    "import os\n",
    "from random import choice\n",
    "import shutil\n",
    "\n",
    "# Setup paths\n",
    "base_path = 'D:/WorkSpace/python/YOLO_HAND_DETECT/hand'\n",
    "  # Thay đường dẫn tới thư mục hand\n",
    "train_image_path = os.path.join(base_path, 'train/images')\n",
    "train_label_path = os.path.join(base_path, 'train/labels')\n",
    "test_image_path = os.path.join(base_path, 'test/images')\n",
    "test_label_path = os.path.join(base_path, 'test/labels')\n",
    "\n",
    "# Train-test split ratio\n",
    "train_ratio = 0.8\n",
    "test_ratio = 0.2\n",
    "\n",
    "# Arrays to store file names\n",
    "imgs = []\n",
    "labels = []\n",
    "\n",
    "# Collect file names\n",
    "images_path = os.path.join(base_path, 'train/images')\n",
    "labels_path = os.path.join(base_path, 'train/labels/YOLO')\n",
    "\n",
    "for filename in os.listdir(images_path):\n",
    "    if filename.endswith('.jpg') or filename.endswith('.png'):  # Các định dạng ảnh\n",
    "        imgs.append(filename)\n",
    "        label_file = filename.replace('.jpg', '.txt').replace('.png', '.txt')\n",
    "        if os.path.exists(os.path.join(labels_path, label_file)):\n",
    "            labels.append(label_file)\n",
    "\n",
    "# Calculate split counts\n",
    "train_count = int(len(imgs) * train_ratio)\n",
    "test_count = len(imgs) - train_count\n",
    "\n",
    "print(f\"Training images: {train_count}\")\n",
    "print(f\"Testing images: {test_count}\")\n",
    "\n",
    "# Shuffle and split the data\n",
    "train_imgs = imgs[:train_count]\n",
    "test_imgs = imgs[train_count:]\n",
    "\n"
   ]
  },
  {
   "cell_type": "markdown",
   "metadata": {},
   "source": [
    "# Create dataset.yaml\n",
    "\n",
    "### move the dataset’s dataset.yaml file to the /content/yolov5/data directory. \n",
    "### This file contains information required by YOLO to train the model on the custom data. \n",
    "\n"
   ]
  },
  {
   "cell_type": "code",
   "execution_count": 4,
   "metadata": {},
   "outputs": [
    {
     "name": "stderr",
     "output_type": "stream",
     "text": [
      "Traceback (most recent call last):\n",
      "  File \"d:\\WorkSpace\\python\\YOLO_HAND_DETECT\\yolov5\\train.py\", line 34, in <module>\n",
      "    import torch\n",
      "  File \"c:\\Users\\DELL.000\\miniforge3\\envs\\myenv\\Lib\\site-packages\\torch\\__init__.py\", line 262, in <module>\n",
      "    _load_dll_libraries()\n",
      "  File \"c:\\Users\\DELL.000\\miniforge3\\envs\\myenv\\Lib\\site-packages\\torch\\__init__.py\", line 245, in _load_dll_libraries\n",
      "    raise err\n",
      "OSError: [WinError 1114] A dynamic link library (DLL) initialization routine failed. Error loading \"c:\\Users\\DELL.000\\miniforge3\\envs\\myenv\\Lib\\site-packages\\torch\\lib\\shm.dll\" or one of its dependencies.\n"
     ]
    }
   ],
   "source": [
    "!python train.py --img 415 --batch 4 --epochs 3 --data d:/WorkSpace/python/YOLO_HAND_DETECT/dataset.yaml --weights yolov5s.pt --cache \n"
   ]
  },
  {
   "cell_type": "markdown",
   "metadata": {},
   "source": [
    "## At the end of the training, two files should be saved in yolov5/runs/train/exp/weights: last.pt and best.pt. We’ll use best.pt.\n",
    "\n",
    "## Explore the metrics recorded during training, I suggest you use TensorBoard, a very interactive exploration tool:"
   ]
  },
  {
   "cell_type": "code",
   "execution_count": 3,
   "metadata": {
    "scrolled": false
   },
   "outputs": [
    {
     "data": {
      "text/plain": [
       "Reusing TensorBoard on port 6006 (pid 5616), started 22:20:36 ago. (Use '!kill 5616' to kill it.)"
      ]
     },
     "metadata": {},
     "output_type": "display_data"
    },
    {
     "data": {
      "text/html": [
       "\n",
       "      <iframe id=\"tensorboard-frame-2b606badba2ed0ea\" width=\"100%\" height=\"800\" frameborder=\"0\">\n",
       "      </iframe>\n",
       "      <script>\n",
       "        (function() {\n",
       "          const frame = document.getElementById(\"tensorboard-frame-2b606badba2ed0ea\");\n",
       "          const url = new URL(\"http://localhost\");\n",
       "          const port = 6006;\n",
       "          if (port) {\n",
       "            url.port = port;\n",
       "          }\n",
       "          frame.src = url;\n",
       "        })();\n",
       "      </script>\n",
       "    "
      ],
      "text/plain": [
       "<IPython.core.display.HTML object>"
      ]
     },
     "metadata": {},
     "output_type": "display_data"
    }
   ],
   "source": [
    "%load_ext tensorboard\n",
    "%tensorboard --logdir runs"
   ]
  },
  {
   "cell_type": "code",
   "execution_count": 9,
   "metadata": {},
   "outputs": [
    {
     "name": "stdout",
     "output_type": "stream",
     "text": [
      "^C\n"
     ]
    }
   ],
   "source": [
    "!python detect.py --weights D:/WorkSpace/python/YOLO_HAND_DETECT/yolov5/runs/train/exp/weights/best.pt --img 640 --conf 0.5 --source 0\n"
   ]
  },
  {
   "cell_type": "code",
   "execution_count": 25,
   "metadata": {},
   "outputs": [
    {
     "name": "stderr",
     "output_type": "stream",
     "text": [
      "\u001b[34m\u001b[1mdetect: \u001b[0mweights=['best.pt'], source=runs/train/exp2/a.jpg, data=data\\coco128.yaml, imgsz=[640, 640], conf_thres=0.25, iou_thres=0.45, max_det=1000, device=, view_img=False, save_txt=False, save_format=0, save_csv=False, save_conf=False, save_crop=False, nosave=False, classes=None, agnostic_nms=False, augment=False, visualize=False, update=False, project=runs\\detect, name=exp, exist_ok=False, line_thickness=3, hide_labels=False, hide_conf=False, half=False, dnn=False, vid_stride=1\n",
      "YOLOv5  v7.0-383-g1435a8ee Python-3.11.10 torch-2.5.1+cpu CPU\n",
      "\n",
      "Traceback (most recent call last):\n",
      "  File \"d:\\WorkSpace\\python\\YOLO_HAND_DETECT\\yolov5\\detect.py\", line 437, in <module>\n",
      "    main(opt)\n",
      "  File \"d:\\WorkSpace\\python\\YOLO_HAND_DETECT\\yolov5\\detect.py\", line 432, in main\n",
      "    run(**vars(opt))\n",
      "  File \"c:\\Users\\DELL.000\\miniforge3\\envs\\myenv\\Lib\\site-packages\\torch\\utils\\_contextlib.py\", line 116, in decorate_context\n",
      "    return func(*args, **kwargs)\n",
      "           ^^^^^^^^^^^^^^^^^^^^^\n",
      "  File \"d:\\WorkSpace\\python\\YOLO_HAND_DETECT\\yolov5\\detect.py\", line 166, in run\n",
      "    model = DetectMultiBackend(weights, device=device, dnn=dnn, data=data, fp16=half)\n",
      "            ^^^^^^^^^^^^^^^^^^^^^^^^^^^^^^^^^^^^^^^^^^^^^^^^^^^^^^^^^^^^^^^^^^^^^^^^^\n",
      "  File \"d:\\WorkSpace\\python\\YOLO_HAND_DETECT\\yolov5\\models\\common.py\", line 489, in __init__\n",
      "    model = attempt_load(weights if isinstance(weights, list) else w, device=device, inplace=True, fuse=fuse)\n",
      "            ^^^^^^^^^^^^^^^^^^^^^^^^^^^^^^^^^^^^^^^^^^^^^^^^^^^^^^^^^^^^^^^^^^^^^^^^^^^^^^^^^^^^^^^^^^^^^^^^^\n",
      "  File \"d:\\WorkSpace\\python\\YOLO_HAND_DETECT\\yolov5\\models\\experimental.py\", line 98, in attempt_load\n",
      "    ckpt = torch.load(attempt_download(w), map_location=\"cpu\")  # load\n",
      "           ^^^^^^^^^^^^^^^^^^^^^^^^^^^^^^^^^^^^^^^^^^^^^^^^^^^\n",
      "  File \"c:\\Users\\DELL.000\\miniforge3\\envs\\myenv\\Lib\\site-packages\\ultralytics\\utils\\patches.py\", line 86, in torch_load\n",
      "    return _torch_load(*args, **kwargs)\n",
      "           ^^^^^^^^^^^^^^^^^^^^^^^^^^^^\n",
      "  File \"c:\\Users\\DELL.000\\miniforge3\\envs\\myenv\\Lib\\site-packages\\torch\\serialization.py\", line 1319, in load\n",
      "    with _open_file_like(f, \"rb\") as opened_file:\n",
      "         ^^^^^^^^^^^^^^^^^^^^^^^^\n",
      "  File \"c:\\Users\\DELL.000\\miniforge3\\envs\\myenv\\Lib\\site-packages\\torch\\serialization.py\", line 659, in _open_file_like\n",
      "    return _open_file(name_or_buffer, mode)\n",
      "           ^^^^^^^^^^^^^^^^^^^^^^^^^^^^^^^^\n",
      "  File \"c:\\Users\\DELL.000\\miniforge3\\envs\\myenv\\Lib\\site-packages\\torch\\serialization.py\", line 640, in __init__\n",
      "    super().__init__(open(name, mode))\n",
      "                     ^^^^^^^^^^^^^^^^\n",
      "FileNotFoundError: [Errno 2] No such file or directory: 'best.pt'\n"
     ]
    }
   ],
   "source": [
    "!python detect.py --source runs/train/exp2/a.jpg --weights best.pt"
   ]
  },
  {
   "cell_type": "markdown",
   "metadata": {},
   "source": [
    "## Let’s explore now how confident our model is. We can plot a validation batch obtained during training and inspect the confidence score of each label"
   ]
  },
  {
   "cell_type": "markdown",
   "metadata": {},
   "source": [
    "Training losses and performance metrics are also logged to Tensorboard and a custom results.txt logfile which is plotted as results.png (below) after training completes. "
   ]
  },
  {
   "cell_type": "markdown",
   "metadata": {},
   "source": [
    "You’ll be implementing the detect.py script with the best.pt weights and image dimensions of 416x416 pixels (it’s really important to comply with that). The results will be saved to runs/detect/exp. To display the results, run the following code:"
   ]
  },
  {
   "cell_type": "code",
   "execution_count": 48,
   "metadata": {},
   "outputs": [
    {
     "name": "stdout",
     "output_type": "stream",
     "text": [
      "Namespace(agnostic_nms=False, augment=False, classes=None, conf_thres=0.25, device='', exist_ok=False, hide_conf=False, hide_labels=False, img_size=640, iou_thres=0.45, line_thickness=3, name='exp', nosave=False, project='runs/detect', save_conf=False, save_crop=False, save_txt=False, source='runs/train/exp2/a.jpg', update=False, view_img=False, weights=['best.pt'])\n",
      "image 1/1 D:\\yolov5_traffic_sign_detection\\yolov5\\runs\\train\\exp2\\a.jpg: 384x640 2 speed limits, Done. (0.141s)\n",
      "Results saved to runs\\detect\\exp4\n",
      "Done. (0.193s)\n"
     ]
    },
    {
     "name": "stderr",
     "output_type": "stream",
     "text": [
      "YOLOv5  v5.0-41-g4890499 torch 1.8.1+cpu CPU\n",
      "\n",
      "Fusing layers... \n",
      "Model Summary: 224 layers, 7062001 parameters, 0 gradients, 16.4 GFLOPS\n"
     ]
    }
   ],
   "source": [
    "#!python detect.py --source runs/train/exp/testimg.jpg --weights runs/train/exp/weights/best.pt --conf 0.25\n",
    "\n",
    "!python detect.py --source runs/train/exp2/a.jpg --weights best.pt"
   ]
  },
  {
   "cell_type": "code",
   "execution_count": 16,
   "metadata": {},
   "outputs": [],
   "source": [
    "from utils.plots import plot_results \n",
    "plot_results(save_dir='runs/train/exp2')  # plot results.txt as results.png"
   ]
  },
  {
   "cell_type": "code",
   "execution_count": null,
   "metadata": {},
   "outputs": [],
   "source": []
  }
 ],
 "metadata": {
  "kernelspec": {
   "display_name": "myenv",
   "language": "python",
   "name": "python3"
  },
  "language_info": {
   "codemirror_mode": {
    "name": "ipython",
    "version": 3
   },
   "file_extension": ".py",
   "mimetype": "text/x-python",
   "name": "python",
   "nbconvert_exporter": "python",
   "pygments_lexer": "ipython3",
   "version": "3.11.10"
  }
 },
 "nbformat": 4,
 "nbformat_minor": 4
}
